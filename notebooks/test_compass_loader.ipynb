{
 "cells": [
  {
   "cell_type": "code",
   "execution_count": 1,
   "id": "peripheral-yukon",
   "metadata": {},
   "outputs": [],
   "source": [
    "from compass import Compass"
   ]
  },
  {
   "cell_type": "code",
   "execution_count": 2,
   "id": "vertical-million",
   "metadata": {},
   "outputs": [
    {
     "name": "stdout",
     "output_type": "stream",
     "text": [
      "Index(['age', 'priors_count'], dtype='object')\n",
      "age\n",
      "priors_count\n",
      "Index(['age', 'priors_count'], dtype='object')\n",
      "age\n",
      "priors_count\n"
     ]
    }
   ],
   "source": [
    "d = Compass()"
   ]
  },
  {
   "cell_type": "code",
   "execution_count": null,
   "id": "outdoor-garden",
   "metadata": {},
   "outputs": [],
   "source": []
  }
 ],
 "metadata": {
  "kernelspec": {
   "display_name": "Python 3",
   "language": "python",
   "name": "python3"
  },
  "language_info": {
   "codemirror_mode": {
    "name": "ipython",
    "version": 3
   },
   "file_extension": ".py",
   "mimetype": "text/x-python",
   "name": "python",
   "nbconvert_exporter": "python",
   "pygments_lexer": "ipython3",
   "version": "3.8.5"
  }
 },
 "nbformat": 4,
 "nbformat_minor": 5
}
