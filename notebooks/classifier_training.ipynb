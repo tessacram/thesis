{
 "cells": [
  {
   "cell_type": "markdown",
   "id": "agricultural-bottle",
   "metadata": {},
   "source": [
    "# Classifier training\n",
    "### The aim of this notebook is train and save a standard classifier"
   ]
  },
  {
   "cell_type": "code",
   "execution_count": null,
   "id": "diverse-mouth",
   "metadata": {},
   "outputs": [],
   "source": [
    "import torch\n",
    "from Income import Income\n",
    "from compass import Compass\n",
    "from Models import MLP"
   ]
  },
  {
   "cell_type": "markdown",
   "id": "sophisticated-aquarium",
   "metadata": {},
   "source": [
    "## Import the data"
   ]
  },
  {
   "cell_type": "code",
   "execution_count": 2,
   "id": "future-kansas",
   "metadata": {},
   "outputs": [],
   "source": [
    "d = Compass()\n",
    "x_train = d.data_torch_train\n",
    "x_test = d.data_torch_test\n",
    "y_train = d.target_torch_train\n",
    "y_test = d.target_torch_test"
   ]
  },
  {
   "cell_type": "markdown",
   "id": "noble-correspondence",
   "metadata": {},
   "source": [
    "## Train the model"
   ]
  },
  {
   "cell_type": "code",
   "execution_count": 3,
   "id": "racial-williams",
   "metadata": {},
   "outputs": [
    {
     "name": "stdout",
     "output_type": "stream",
     "text": [
      "Test loss before training 0.6922668218612671\n",
      "Epoch: 0 -- train loss: 0.692 -- accuracy (test set): 0.494\n",
      "Epoch: 100 -- train loss: 0.642 -- accuracy (test set): 0.606\n",
      "Epoch: 200 -- train loss: 0.612 -- accuracy (test set): 0.641\n",
      "Epoch: 300 -- train loss: 0.605 -- accuracy (test set): 0.66\n",
      "Epoch: 400 -- train loss: 0.602 -- accuracy (test set): 0.664\n",
      "Epoch: 500 -- train loss: 0.6 -- accuracy (test set): 0.666\n",
      "Test loss after Training 0.6243650913238525\n",
      "The accuracy scrore on the test set: 0.666\n"
     ]
    }
   ],
   "source": [
    "input_dim = len(x_train[0])\n",
    "hidden_dim = 100\n",
    "\n",
    "mlp_model = MLP(input_dim, hidden_dim)\n",
    "criterion = torch.nn.BCELoss() # BCE = binary cross entropy - our targets are binary \n",
    "optimizer = torch.optim.Adam(mlp_model.parameters(), lr = 0.001)\n",
    "\n",
    "### EVAL ###\n",
    "mlp_model.eval() # here sets the PyTorch module to evaluation mode. \n",
    "y_train_hat = mlp_model(x_train)\n",
    "before_train = criterion(y_train_hat.squeeze(), y_train)\n",
    "print('Test loss before training' , before_train.item())\n",
    "\n",
    "### TRAIN ###\n",
    "mlp_model.train() # here sets the PyTorch module to train mode. \n",
    "tot_epoch = 501\n",
    "for epoch in range(tot_epoch):\n",
    "    optimizer.zero_grad()\n",
    "    # Forward pass\n",
    "    y_train_hat = mlp_model(x_train)\n",
    "    # Compute Loss\n",
    "    loss = criterion(y_train_hat.squeeze(), y_train)\n",
    "    \n",
    "    if epoch%100==0:\n",
    "        y_test_hat = mlp_model(x_test)\n",
    "        print('Epoch: {} -- train loss: {} -- accuracy (test set): {}'.format(epoch, round(loss.item(), 3), mlp_model.accuracy(y_test_hat, y_test)))\n",
    "        y_test_hat = mlp_model(x_test)\n",
    "        \n",
    "    # Backward pass\n",
    "    loss.backward()\n",
    "    optimizer.step()\n",
    "\n",
    "### EVAL ###\n",
    "mlp_model.eval()\n",
    "y_test_hat = mlp_model(x_test)\n",
    "after_train = criterion(y_test_hat.squeeze(), y_test) \n",
    "print('Test loss after Training' , after_train.item())\n",
    "\n",
    "print('The accuracy scrore on the test set:', mlp_model.accuracy(y_test_hat, y_test))\n"
   ]
  },
  {
   "cell_type": "markdown",
   "id": "celtic-admission",
   "metadata": {},
   "source": [
    "## Save model"
   ]
  },
  {
   "cell_type": "code",
   "execution_count": 4,
   "id": "reported-tattoo",
   "metadata": {},
   "outputs": [],
   "source": [
    "torch.save(mlp_model, \"classifier_model_compass.pt\")"
   ]
  },
  {
   "cell_type": "code",
   "execution_count": null,
   "id": "continental-piano",
   "metadata": {},
   "outputs": [],
   "source": []
  }
 ],
 "metadata": {
  "kernelspec": {
   "display_name": "Python 3",
   "language": "python",
   "name": "python3"
  },
  "language_info": {
   "codemirror_mode": {
    "name": "ipython",
    "version": 3
   },
   "file_extension": ".py",
   "mimetype": "text/x-python",
   "name": "python",
   "nbconvert_exporter": "python",
   "pygments_lexer": "ipython3",
   "version": "3.8.5"
  }
 },
 "nbformat": 4,
 "nbformat_minor": 5
}
